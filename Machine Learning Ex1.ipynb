{
 "cells": [
  {
   "cell_type": "markdown",
   "metadata": {},
   "source": [
    "# 2.1 Plotting Data"
   ]
  },
  {
   "cell_type": "code",
   "execution_count": 56,
   "metadata": {
    "collapsed": true
   },
   "outputs": [],
   "source": [
    "import numpy as np\n",
    "import pandas as pd\n",
    "import matplotlib.pyplot as plt"
   ]
  },
  {
   "cell_type": "code",
   "execution_count": 181,
   "metadata": {},
   "outputs": [
    {
     "data": {
      "text/html": [
       "<div>\n",
       "<style>\n",
       "    .dataframe thead tr:only-child th {\n",
       "        text-align: right;\n",
       "    }\n",
       "\n",
       "    .dataframe thead th {\n",
       "        text-align: left;\n",
       "    }\n",
       "\n",
       "    .dataframe tbody tr th {\n",
       "        vertical-align: top;\n",
       "    }\n",
       "</style>\n",
       "<table border=\"1\" class=\"dataframe\">\n",
       "  <thead>\n",
       "    <tr style=\"text-align: right;\">\n",
       "      <th></th>\n",
       "      <th>Population($0000's)</th>\n",
       "      <th>Profit($0000's)</th>\n",
       "    </tr>\n",
       "  </thead>\n",
       "  <tbody>\n",
       "    <tr>\n",
       "      <th>0</th>\n",
       "      <td>6.1101</td>\n",
       "      <td>17.5920</td>\n",
       "    </tr>\n",
       "    <tr>\n",
       "      <th>1</th>\n",
       "      <td>5.5277</td>\n",
       "      <td>9.1302</td>\n",
       "    </tr>\n",
       "    <tr>\n",
       "      <th>2</th>\n",
       "      <td>8.5186</td>\n",
       "      <td>13.6620</td>\n",
       "    </tr>\n",
       "    <tr>\n",
       "      <th>3</th>\n",
       "      <td>7.0032</td>\n",
       "      <td>11.8540</td>\n",
       "    </tr>\n",
       "    <tr>\n",
       "      <th>4</th>\n",
       "      <td>5.8598</td>\n",
       "      <td>6.8233</td>\n",
       "    </tr>\n",
       "  </tbody>\n",
       "</table>\n",
       "</div>"
      ],
      "text/plain": [
       "   Population($0000's)  Profit($0000's)\n",
       "0               6.1101          17.5920\n",
       "1               5.5277           9.1302\n",
       "2               8.5186          13.6620\n",
       "3               7.0032          11.8540\n",
       "4               5.8598           6.8233"
      ]
     },
     "execution_count": 181,
     "metadata": {},
     "output_type": "execute_result"
    }
   ],
   "source": [
    "# Read Data from txt File\n",
    "ex1df = pd.read_csv(\"ex1.txt\", header=None)\n",
    "ex1df.columns = [\"Population($0000's)\",\"Profit($0000's)\"]\n",
    "ex1df.head()"
   ]
  },
  {
   "cell_type": "code",
   "execution_count": 182,
   "metadata": {},
   "outputs": [
    {
     "data": {
      "image/png": "[encoded data removed]",
      "text/plain": [
       "<Figure size 432x288 with 1 Axes>"
      ]
     },
     "metadata": {},
     "output_type": "display_data"
    }
   ],
   "source": [
    "plt.scatter(ex1df.iloc[:,0],ex1df.iloc[:,1],color = \"blue\" )\n",
    "plt.xlabel(\"Population of city in $10,000s\")\n",
    "plt.ylabel(\"Profit of Food Truck in $10,000s\")\n",
    "plt.title(\"Profit of Food Truck Vs City Population \")\n",
    "plt.show()"
   ]
  },
  {
   "cell_type": "markdown",
   "metadata": {},
   "source": [
    "# 2.2 Gradient Descent"
   ]
  },
  {
   "cell_type": "markdown",
   "metadata": {},
   "source": [
    "## 2.2.1 Update Equations\n",
    "The Goal of Gradient Descent is to minimise the cost function:\n",
    "\\begin{equation*}\n",
    "J\\left(\\theta\\right)= \\sum_{i=1}^m \\left(h_\\theta(x^{(i)}) - y^{(i)}\\right)^2 \n",
    "\\end{equation*}\n",
    "where the hypothesis $ h_\\theta(x)= \\theta'x = \\theta_0 + \\theta_1 x_1$"
   ]
  },
  {
   "cell_type": "markdown",
   "metadata": {},
   "source": [
    "## 2.2.1 Implementation"
   ]
  },
  {
   "cell_type": "code",
   "execution_count": 59,
   "metadata": {},
   "outputs": [
    {
     "data": {
      "text/plain": [
       "97"
      ]
     },
     "execution_count": 59,
     "metadata": {},
     "output_type": "execute_result"
    }
   ],
   "source": [
    "# Number of training examples\n",
    "m = len(ex1df.iloc[:,1])\n",
    "m"
   ]
  },
  {
   "cell_type": "code",
   "execution_count": 60,
   "metadata": {},
   "outputs": [
    {
     "data": {
      "text/plain": [
       "(97, 1)"
      ]
     },
     "execution_count": 60,
     "metadata": {},
     "output_type": "execute_result"
    }
   ],
   "source": [
    "# COnverting ex1df to arrays\n",
    "ex1_array = ex1df.values\n",
    "X0 = ex1_array[:,0].reshape(m,1)\n",
    "y = ex1_array[:,1].reshape(m,1)\n",
    "X0.shape"
   ]
  },
  {
   "cell_type": "code",
   "execution_count": 161,
   "metadata": {},
   "outputs": [
    {
     "data": {
      "text/html": [
       "<div>\n",
       "<style>\n",
       "    .dataframe thead tr:only-child th {\n",
       "        text-align: right;\n",
       "    }\n",
       "\n",
       "    .dataframe thead th {\n",
       "        text-align: left;\n",
       "    }\n",
       "\n",
       "    .dataframe tbody tr th {\n",
       "        vertical-align: top;\n",
       "    }\n",
       "</style>\n",
       "<table border=\"1\" class=\"dataframe\">\n",
       "  <thead>\n",
       "    <tr style=\"text-align: right;\">\n",
       "      <th></th>\n",
       "      <th>0</th>\n",
       "      <th>1</th>\n",
       "    </tr>\n",
       "  </thead>\n",
       "  <tbody>\n",
       "    <tr>\n",
       "      <th>0</th>\n",
       "      <td>1.0</td>\n",
       "      <td>6.1101</td>\n",
       "    </tr>\n",
       "    <tr>\n",
       "      <th>1</th>\n",
       "      <td>1.0</td>\n",
       "      <td>5.5277</td>\n",
       "    </tr>\n",
       "    <tr>\n",
       "      <th>2</th>\n",
       "      <td>1.0</td>\n",
       "      <td>8.5186</td>\n",
       "    </tr>\n",
       "    <tr>\n",
       "      <th>3</th>\n",
       "      <td>1.0</td>\n",
       "      <td>7.0032</td>\n",
       "    </tr>\n",
       "    <tr>\n",
       "      <th>4</th>\n",
       "      <td>1.0</td>\n",
       "      <td>5.8598</td>\n",
       "    </tr>\n",
       "  </tbody>\n",
       "</table>\n",
       "</div>"
      ],
      "text/plain": [
       "     0       1\n",
       "0  1.0  6.1101\n",
       "1  1.0  5.5277\n",
       "2  1.0  8.5186\n",
       "3  1.0  7.0032\n",
       "4  1.0  5.8598"
      ]
     },
     "execution_count": 161,
     "metadata": {},
     "output_type": "execute_result"
    }
   ],
   "source": [
    "# Adding a column of ones to x for the intercept term\n",
    "X = np.hstack((np.ones([m,1]),X0))\n",
    "theta = np.zeros((2,1))\n",
    "iterations = 1500\n",
    "alpha = 0.01\n",
    "#X.shape\n",
    "#pd.DataFrame(X).head()"
   ]
  },
  {
   "cell_type": "markdown",
   "metadata": {},
   "source": [
    "## 2.2.3 Computing the cost function $J(\\theta)$"
   ]
  },
  {
   "cell_type": "code",
   "execution_count": 48,
   "metadata": {},
   "outputs": [
    {
     "data": {
      "text/plain": [
       "6"
      ]
     },
     "execution_count": 48,
     "metadata": {},
     "output_type": "execute_result"
    }
   ],
   "source": [
    "sum([1,2,3])"
   ]
  },
  {
   "cell_type": "code",
   "execution_count": 75,
   "metadata": {},
   "outputs": [
    {
     "data": {
      "text/plain": [
       "32.072733877455654"
      ]
     },
     "execution_count": 75,
     "metadata": {},
     "output_type": "execute_result"
    }
   ],
   "source": [
    "def computeCost(X,y,theta):\n",
    "    J = 0\n",
    "    predictions = X.dot(theta) \n",
    "    sqerrors = (predictions - y)**2\n",
    "    J = 1/(2*m)*sum(sqerrors)\n",
    "    return J[0]\n",
    "computeCost(X,y,theta)"
   ]
  },
  {
   "cell_type": "markdown",
   "metadata": {},
   "source": [
    "## 2.2.4 Gradient Descent"
   ]
  },
  {
   "cell_type": "code",
   "execution_count": 165,
   "metadata": {},
   "outputs": [
    {
     "name": "stdout",
     "output_type": "stream",
     "text": [
      "Thus, the new values for theta are -3.63029143940436 and 1.166362350335582\n"
     ]
    },
    {
     "data": {
      "text/plain": [
       "array([[-3.63029144],\n",
       "       [ 1.16636235]])"
      ]
     },
     "execution_count": 165,
     "metadata": {},
     "output_type": "execute_result"
    }
   ],
   "source": [
    "def gradientDescent(X,y,theta,alpha,num_iters):\n",
    "    J_history = np.zeros((num_iters,1))\n",
    "    \n",
    "    for iter in range(num_iters):\n",
    "        predictions = X.dot(theta)\n",
    "        errors = (predictions - y)\n",
    "        # Gradient Descent Updates\n",
    "        theta = theta - alpha*(1/m)*X.T.dot(errors)\n",
    "        # Save the cost of J in every iteration\n",
    "        J_history[iter] = computeCost(X,y,theta)\n",
    "    #print(J_history)\n",
    "    print(\"Thus, the new values for theta are {} and {}\".format(theta[0,0],theta[1,0]))\n",
    "    return theta\n",
    "gradientDescent(X,y,theta, alpha, 1500)"
   ]
  },
  {
   "cell_type": "code",
   "execution_count": 166,
   "metadata": {
    "scrolled": true
   },
   "outputs": [
    {
     "data": {
      "text/plain": [
       "array([[-3.63029144],\n",
       "       [ 1.16636235]])"
      ]
     },
     "execution_count": 166,
     "metadata": {},
     "output_type": "execute_result"
    }
   ],
   "source": [
    "# Assigning new optimal theta values to the theta array\n",
    "theta[0] = -3.63029144\n",
    "theta[1] = 1.16636235\n",
    "theta"
   ]
  },
  {
   "cell_type": "code",
   "execution_count": 167,
   "metadata": {
    "collapsed": true
   },
   "outputs": [],
   "source": [
    "predictions = X.dot(theta)"
   ]
  },
  {
   "cell_type": "code",
   "execution_count": 168,
   "metadata": {},
   "outputs": [
    {
     "data": {
      "image/png": "[encoded data removed]",
      "text/plain": [
       "<Figure size 432x288 with 1 Axes>"
      ]
     },
     "metadata": {},
     "output_type": "display_data"
    }
   ],
   "source": [
    "plt.scatter(ex1df.iloc[:,0],ex1df.iloc[:,1],color = \"blue\", label= \"Training Data\" )\n",
    "plt.plot(ex1df.iloc[:,0],predictions, lw = 2.5, c = \"k\", label = \"Regression Fit\")\n",
    "plt.xlabel(\"Population of city in $10,000s\")\n",
    "plt.ylabel(\"Profit of Food Truck in $10,000s\")\n",
    "plt.title(\"Profit of Food Truck Vs City Population \")\n",
    "plt.legend()\n",
    "plt.show()"
   ]
  },
  {
   "cell_type": "code",
   "execution_count": 159,
   "metadata": {},
   "outputs": [
    {
     "data": {
      "image/png": "[encoded data removed]",
      "text/plain": [
       "<Figure size 432x288 with 1 Axes>"
      ]
     },
     "metadata": {},
     "output_type": "display_data"
    }
   ],
   "source": [
    "# Plot With Different Values of theta:\n",
    "theta_subopt = np.array([[4],[2]])\n",
    "predictions_subopt = X.dot(theta_subopt)\n",
    "plt.scatter(ex1df.iloc[:,0],ex1df.iloc[:,1],color = \"blue\", label= \"Training Data\" )\n",
    "plt.plot(ex1df.iloc[:,0],predictions_subopt, lw = 2.5, c = \"k\", label = \"Regression Fit\")\n",
    "plt.xlabel(\"Population of city in $10,000s\")\n",
    "plt.ylabel(\"Profit of Food Truck in $10,000s\")\n",
    "plt.title(\"Profit of Food Truck Vs City Population \")\n",
    "plt.legend()\n",
    "plt.show()"
   ]
  },
  {
   "cell_type": "markdown",
   "metadata": {},
   "source": [
    "## Predictions"
   ]
  },
  {
   "cell_type": "code",
   "execution_count": 173,
   "metadata": {},
   "outputs": [
    {
     "name": "stdout",
     "output_type": "stream",
     "text": [
      "For population of 35,000 we predict a profit of 4519.767849999998\n"
     ]
    }
   ],
   "source": [
    "# For a population of size 35,000, the profit is:\n",
    "prediction1 = theta.T.dot(np.array([[1],[3.5]]))\n",
    "print(\"For population of 35,000 we predict a profit \\\n",
    "of {profit}\".format(profit=prediction1[0,0]*10000))"
   ]
  },
  {
   "cell_type": "code",
   "execution_count": 174,
   "metadata": {},
   "outputs": [
    {
     "name": "stdout",
     "output_type": "stream",
     "text": [
      "For population of 200,000 we predict a profit of 196969.5556\n"
     ]
    }
   ],
   "source": [
    "# For a population of size 200,000 the profit is:\n",
    "prediction1 = theta.T.dot(np.array([[1],[20]]))\n",
    "print(\"For population of 200,000 we predict a profit \\\n",
    "of {profit}\".format(profit=prediction1[0,0]*10000))"
   ]
  }
 ],
 "metadata": {
  "kernelspec": {
   "display_name": "Python 3",
   "language": "python",
   "name": "python3"
  },
  "language_info": {
   "codemirror_mode": {
    "name": "ipython",
    "version": 3
   },
   "file_extension": ".py",
   "mimetype": "text/x-python",
   "name": "python",
   "nbconvert_exporter": "python",
   "pygments_lexer": "ipython3",
   "version": "3.6.3"
  }
 },
 "nbformat": 4,
 "nbformat_minor": 2
}
